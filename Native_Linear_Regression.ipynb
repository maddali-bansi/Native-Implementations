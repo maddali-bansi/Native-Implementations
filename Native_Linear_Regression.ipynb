{
 "cells": [
  {
   "cell_type": "code",
   "execution_count": 126,
   "metadata": {},
   "outputs": [],
   "source": [
    "import math"
   ]
  },
  {
   "cell_type": "code",
   "execution_count": 127,
   "metadata": {},
   "outputs": [],
   "source": [
    "#Gradient Descent Step\n",
    "def updateWeights(B0,B1,alpha,error,x):\n",
    "    B0 = B0 - (alpha * error)\n",
    "    B1 = B1 - (alpha* error * x)\n",
    "    return B0,B1"
   ]
  },
  {
   "cell_type": "code",
   "execution_count": 128,
   "metadata": {},
   "outputs": [],
   "source": [
    "#Linear Equation \n",
    "def calculatey(x,B0,B1):\n",
    "    y = B0 + B1 *x\n",
    "    return y"
   ]
  },
  {
   "cell_type": "code",
   "execution_count": 129,
   "metadata": {},
   "outputs": [],
   "source": [
    "#Delta/error for Gradient Descent\n",
    "def caluculateError(y,y_pred):\n",
    "    error = y_pred-y\n",
    "    return error"
   ]
  },
  {
   "cell_type": "code",
   "execution_count": 130,
   "metadata": {},
   "outputs": [],
   "source": [
    "#Mean Square Error\n",
    "def mse(Y_pred,Y):\n",
    "    squarred_errors = [(y_pred-y)* (y_pred-y) for y_pred,y in zip(Y_pred,Y)]\n",
    "    return np.sum(squarred_errors)"
   ]
  },
  {
   "cell_type": "code",
   "execution_count": 131,
   "metadata": {},
   "outputs": [],
   "source": [
    "#Linear Regression\n",
    "def applyLinearRegression(X,Y,epochs,alpha):\n",
    "    B0 = 0.0\n",
    "    B1 = 0.0\n",
    "    Y_pred = []\n",
    "    B0_List = [] \n",
    "    B1_List = []\n",
    "    Error_List = []\n",
    "    for epoch in range(epochs):\n",
    "        for x,y in zip(X,Y):\n",
    "            B0_List.append(B0)\n",
    "            B1_List.append(B1)\n",
    "            y_pred = calculatey(x,B0,B1)\n",
    "            error = caluculateError(y,y_pred)\n",
    "            Error_List.append(error)\n",
    "            B0,B1 = updateWeights(B0,B1,alpha,error,x)\n",
    "    print(f\"Final B0 = {B0} B1 = {B1}\")\n",
    "    Y_pred = [calculatey(x,B0,B1) for x in X]\n",
    "    print(\"Mean Squared Error = \",mse(Y_pred,Y))\n",
    "    \n",
    "    #return (B0_List,B1_List,Error_List)"
   ]
  },
  {
   "cell_type": "code",
   "execution_count": 165,
   "metadata": {},
   "outputs": [],
   "source": [
    "#Generate Data to test\n",
    "x = np.random.randint(0, 10, 10)\n",
    "y = 3 + 4 *x"
   ]
  },
  {
   "cell_type": "code",
   "execution_count": 166,
   "metadata": {},
   "outputs": [
    {
     "name": "stdout",
     "output_type": "stream",
     "text": [
      "Final B0 = 2.9571232829953873 B1 = 4.0048523102542575\n",
      "Mean Squared Error =  0.00776710979646794\n"
     ]
    }
   ],
   "source": [
    "applyLinearRegression(x,y,100,0.01)"
   ]
  }
 ],
 "metadata": {
  "kernelspec": {
   "display_name": "Python 3",
   "language": "python",
   "name": "python3"
  },
  "language_info": {
   "codemirror_mode": {
    "name": "ipython",
    "version": 3
   },
   "file_extension": ".py",
   "mimetype": "text/x-python",
   "name": "python",
   "nbconvert_exporter": "python",
   "pygments_lexer": "ipython3",
   "version": "3.7.6"
  }
 },
 "nbformat": 4,
 "nbformat_minor": 4
}
