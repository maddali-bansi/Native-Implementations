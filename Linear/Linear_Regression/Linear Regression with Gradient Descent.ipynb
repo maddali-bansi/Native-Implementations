{
 "cells": [
  {
   "cell_type": "markdown",
   "id": "1cf0eea0",
   "metadata": {},
   "source": [
    "Please find the article related to this here : https://bansidath.in/2022/04/09/linear-regression-simple-and-sweet-native-implementation/"
   ]
  },
  {
   "cell_type": "code",
   "execution_count": null,
   "id": "ff9baeb3",
   "metadata": {},
   "outputs": [],
   "source": [
    "import pandas as pd\n",
    "import numpy as np\n",
    "import matplotlib.pyplot as plt"
   ]
  },
  {
   "cell_type": "code",
   "execution_count": 11,
   "id": "19b64779",
   "metadata": {},
   "outputs": [],
   "source": [
    "# We know intercept = 4 , slope= 2 , meaning our algorithm should be able to achieve W0 = 4 and W1 = 2\n",
    "X = np.array([i for i in range(11)])\n",
    "Y = np.array([2*i + 4 for i in range(11)])\n",
    "\n",
    "\n",
    "W = np.zeros(2)\n",
    "alpha = 0.01\n",
    "iterations = 1000\n",
    "\n",
    "costs = []\n",
    "w0 = list()\n",
    "w1 = list()\n",
    "n = len(X)\n",
    "\n",
    "Y_hat = 0\n",
    "while iterations > 0 :\n",
    "    \n",
    "    #Calculate Y_Hat\n",
    "    Y_hat = W[0] + W[1] * X\n",
    "    \n",
    "    #Update Intercept\n",
    "    W[0] = W[0] - alpha * (np.sum(Y_hat - Y)/n)\n",
    "    \n",
    "    #Update the features since we have only one feature we have one W1\n",
    "    W[1] = W[1] - alpha * (np.sum((Y_hat-Y)*X)/n)\n",
    "    \n",
    "    #Calculate Cost\n",
    "    cost = np.sum(np.square(Y_hat-Y)) / 2 * n \n",
    "    \n",
    "    costs.append(cost)\n",
    "    w0.append(W[0])\n",
    "    w1.append(W[1])\n",
    "    \n",
    "    iterations-=1\n",
    "    \n",
    "    \n",
    "   "
   ]
  },
  {
   "cell_type": "code",
   "execution_count": 12,
   "id": "e44438ac",
   "metadata": {},
   "outputs": [
    {
     "data": {
      "text/html": [
       "<div>\n",
       "<style scoped>\n",
       "    .dataframe tbody tr th:only-of-type {\n",
       "        vertical-align: middle;\n",
       "    }\n",
       "\n",
       "    .dataframe tbody tr th {\n",
       "        vertical-align: top;\n",
       "    }\n",
       "\n",
       "    .dataframe thead th {\n",
       "        text-align: right;\n",
       "    }\n",
       "</style>\n",
       "<table border=\"1\" class=\"dataframe\">\n",
       "  <thead>\n",
       "    <tr style=\"text-align: right;\">\n",
       "      <th></th>\n",
       "      <th>cost</th>\n",
       "      <th>W0</th>\n",
       "      <th>W1</th>\n",
       "    </tr>\n",
       "  </thead>\n",
       "  <tbody>\n",
       "    <tr>\n",
       "      <th>995</th>\n",
       "      <td>0.863473</td>\n",
       "      <td>3.777142</td>\n",
       "      <td>2.032094</td>\n",
       "    </tr>\n",
       "    <tr>\n",
       "      <th>996</th>\n",
       "      <td>0.858645</td>\n",
       "      <td>3.777766</td>\n",
       "      <td>2.032004</td>\n",
       "    </tr>\n",
       "    <tr>\n",
       "      <th>997</th>\n",
       "      <td>0.853844</td>\n",
       "      <td>3.778388</td>\n",
       "      <td>2.031914</td>\n",
       "    </tr>\n",
       "    <tr>\n",
       "      <th>998</th>\n",
       "      <td>0.849070</td>\n",
       "      <td>3.779009</td>\n",
       "      <td>2.031825</td>\n",
       "    </tr>\n",
       "    <tr>\n",
       "      <th>999</th>\n",
       "      <td>0.844323</td>\n",
       "      <td>3.779627</td>\n",
       "      <td>2.031736</td>\n",
       "    </tr>\n",
       "  </tbody>\n",
       "</table>\n",
       "</div>"
      ],
      "text/plain": [
       "         cost        W0        W1\n",
       "995  0.863473  3.777142  2.032094\n",
       "996  0.858645  3.777766  2.032004\n",
       "997  0.853844  3.778388  2.031914\n",
       "998  0.849070  3.779009  2.031825\n",
       "999  0.844323  3.779627  2.031736"
      ]
     },
     "execution_count": 12,
     "metadata": {},
     "output_type": "execute_result"
    },
    {
     "data": {
      "image/png": "[encoded data removed]",
      "text/plain": [
       "<Figure size 432x288 with 1 Axes>"
      ]
     },
     "metadata": {
      "needs_background": "light"
     },
     "output_type": "display_data"
    }
   ],
   "source": [
    "df = pd.DataFrame({'cost':costs,'W0':w0,'W1':w1})\n",
    "df.plot.line(x='W1',y='cost')\n",
    "df.tail()"
   ]
  }
 ],
 "metadata": {
  "kernelspec": {
   "display_name": "Python 3 (ipykernel)",
   "language": "python",
   "name": "python3"
  },
  "language_info": {
   "codemirror_mode": {
    "name": "ipython",
    "version": 3
   },
   "file_extension": ".py",
   "mimetype": "text/x-python",
   "name": "python",
   "nbconvert_exporter": "python",
   "pygments_lexer": "ipython3",
   "version": "3.9.7"
  }
 },
 "nbformat": 4,
 "nbformat_minor": 5
}
