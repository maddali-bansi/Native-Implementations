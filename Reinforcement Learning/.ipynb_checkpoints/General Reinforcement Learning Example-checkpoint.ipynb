{
 "cells": [
  {
   "cell_type": "code",
   "execution_count": 56,
   "id": "3f59f93f",
   "metadata": {},
   "outputs": [],
   "source": [
    "import numpy as np\n",
    "import random"
   ]
  },
  {
   "cell_type": "code",
   "execution_count": 137,
   "id": "9a4c3a6d",
   "metadata": {},
   "outputs": [],
   "source": [
    "puzzle_grid = np.array([['+','+','x'],['+','+','+'],['x','x','+']],dtype=str)"
   ]
  },
  {
   "cell_type": "code",
   "execution_count": 138,
   "id": "100ccb57",
   "metadata": {},
   "outputs": [
    {
     "data": {
      "text/plain": [
       "array([['+', '+', 'x'],\n",
       "       ['+', '+', '+'],\n",
       "       ['x', 'x', '+']], dtype='<U1')"
      ]
     },
     "execution_count": 138,
     "metadata": {},
     "output_type": "execute_result"
    }
   ],
   "source": [
    "puzzle_grid"
   ]
  },
  {
   "attachments": {
    "di.jpg": {
     "image/jpeg": "[encoded data removed]"
    }
   },
   "cell_type": "markdown",
   "id": "90372bd3",
   "metadata": {},
   "source": [
    "![di.jpg](attachment:di.jpg)"
   ]
  },
  {
   "cell_type": "code",
   "execution_count": 139,
   "id": "007d10ec",
   "metadata": {},
   "outputs": [],
   "source": [
    "def get_possible_positions(current_position,avoid_path,travelled_path):\n",
    "    # We know the index will be +- 1 i.e 4 positions , but it should not go beyond 2 or less than 0\n",
    "    \n",
    "    x = current_position[0]\n",
    "    y = current_position[1]\n",
    "    possible_positions = []\n",
    "    \n",
    "    up = (x-1,y)\n",
    "    down = (x+1,y)\n",
    "    left = (x,y-1)\n",
    "    right = (x,y+1)\n",
    "    #print(\"Up= \",up,\"Down= \",down,\"Left= \",left,\"Right= \",right)\n",
    "    \n",
    "    if all(i >= 0 and i<=2 for i in list(up)) and up not in avoid_path and up not in travelled_path:\n",
    "        possible_positions.append(up)\n",
    "        \n",
    "    if all(i >= 0 and i<=2 for i in list(down)) and down not in avoid_path and down not in travelled_path:\n",
    "        possible_positions.append(down)\n",
    "        \n",
    "    if all(i >= 0 and i<=2 for i in list(left)) and left not in avoid_path and left not in travelled_path:\n",
    "        possible_positions.append(left)\n",
    "        \n",
    "    if all(i >= 0 and i<=2 for i in list(right)) and right not in avoid_path and right not in travelled_path:\n",
    "        possible_positions.append(right)\n",
    "        \n",
    "    return possible_positions"
   ]
  },
  {
   "cell_type": "code",
   "execution_count": 140,
   "id": "c9f93f36",
   "metadata": {},
   "outputs": [
    {
     "name": "stdout",
     "output_type": "stream",
     "text": [
      "Agent Travel Point  (0, 1)\n",
      "Possible_positions  [(1, 1), (0, 0), (0, 2)]\n",
      "*************************************\n",
      "Agent Travel Point  (1, 1)\n",
      "Possible_positions  [(2, 1), (1, 0), (1, 2)]\n",
      "*************************************\n",
      "Agent Travel Point  (1, 2)\n",
      "Possible_positions  [(0, 2), (2, 2)]\n",
      "*************************************\n",
      "Agent Travel Point  (0, 2)\n",
      "___________________________________________\n",
      "No More possible positions , reiterating...\n",
      "Travelled Path:  [(0, 1), (1, 1), (1, 2), (0, 2)]\n",
      "Avoid Path :  [(0, 2)]\n",
      "Score =  1\n",
      "___________________________________________\n",
      "Agent Travel Point  (0, 1)\n",
      "Possible_positions  [(1, 1), (0, 0)]\n",
      "*************************************\n",
      "Agent Travel Point  (0, 0)\n",
      "Possible_positions  [(1, 0)]\n",
      "*************************************\n",
      "Agent Travel Point  (1, 0)\n",
      "Possible_positions  [(2, 0), (1, 1)]\n",
      "*************************************\n",
      "Agent Travel Point  (1, 1)\n",
      "Possible_positions  [(2, 1), (1, 2)]\n",
      "*************************************\n",
      "Agent Travel Point  (2, 1)\n",
      "Possible_positions  [(2, 0), (2, 2)]\n",
      "*************************************\n",
      "Agent Travel Point  (2, 2)\n",
      "Possible_positions  [(1, 2)]\n",
      "*************************************\n",
      "Agent Travel Point  (1, 2)\n",
      "___________________________________________\n",
      "No More possible positions , reiterating...\n",
      "Travelled Path:  [(0, 1), (0, 0), (1, 0), (1, 1), (2, 1), (2, 2), (1, 2)]\n",
      "Avoid Path :  [(0, 2), (2, 1)]\n",
      "Score =  4\n",
      "___________________________________________\n",
      "Agent Travel Point  (0, 1)\n",
      "Possible_positions  [(1, 1), (0, 0)]\n",
      "*************************************\n",
      "Agent Travel Point  (0, 0)\n",
      "Possible_positions  [(1, 0)]\n",
      "*************************************\n",
      "Agent Travel Point  (1, 0)\n",
      "Possible_positions  [(2, 0), (1, 1)]\n",
      "*************************************\n",
      "Agent Travel Point  (1, 1)\n",
      "Possible_positions  [(1, 2)]\n",
      "*************************************\n",
      "Agent Travel Point  (1, 2)\n",
      "Possible_positions  [(2, 2)]\n",
      "*************************************\n",
      "Agent Travel Point  (2, 2)\n",
      "###########################################\n",
      "GOAL Reached \n",
      "Travelled Path:  [(0, 1), (0, 0), (1, 0), (1, 1), (1, 2), (2, 2)]\n",
      "Score =  5\n"
     ]
    }
   ],
   "source": [
    "random.seed(14)\n",
    "score  = 0\n",
    "reward = 1\n",
    "penalty = -1\n",
    "avoid_path = []\n",
    "travelled_path = []\n",
    "goal_path = [(0,1),(0,0),(1,0),(1,1),(1,2),(2,2)]\n",
    "start_index = (0,1)\n",
    "\n",
    "agent_position = start_index\n",
    "iteration = 20\n",
    "while  iteration>0: #travelled_path!=goal_path:\n",
    "    \n",
    "    print(\"Agent Travel Point \",agent_position)\n",
    "    travelled_path.append(agent_position)\n",
    "    \n",
    "    # Get possible directions\n",
    "    possible_positions = get_possible_positions(agent_position,avoid_path,travelled_path)\n",
    "    \n",
    "    # Convergence Condition\n",
    "    if travelled_path==goal_path:\n",
    "        print(\"###########################################\")\n",
    "        print(\"GOAL Reached \")\n",
    "        print(\"Travelled Path: \",travelled_path)\n",
    "        print(\"Score = \",score)\n",
    "        break\n",
    "    \n",
    "    # Dead Condition where Agent has no other place to go\n",
    "    if(len(possible_positions)==0):\n",
    "        print(\"___________________________________________\")\n",
    "        print(\"No More possible positions , reiterating...\")\n",
    "        print(\"Travelled Path: \",travelled_path)\n",
    "        print(\"Avoid Path : \",avoid_path)\n",
    "        print(\"Score = \",score)\n",
    "        print(\"___________________________________________\")\n",
    "        \n",
    "        #Restart the Travel with accumulated Knowledge of avoidable paths\n",
    "        agent_position = start_index\n",
    "        travelled_path = []\n",
    "        score = 0\n",
    "        #break\n",
    "        \n",
    "    else: \n",
    "    \n",
    "        print(\"Possible_positions \",possible_positions)\n",
    "        print(\"*************************************\")\n",
    "\n",
    "\n",
    "        #Pick a random position\n",
    "        random_position = random.choice(possible_positions)\n",
    "\n",
    "        # Since we are thinking '+' way helps us to reach goal, accordingly reward the agent and add it to list\n",
    "        if puzzle_grid[random_position] == '+':\n",
    "            score = score + reward\n",
    "        else:\n",
    "            score = score + penalty\n",
    "            avoid_path.append(random_position)\n",
    "\n",
    "       \n",
    "\n",
    "        #Update the current position of agent    \n",
    "        agent_position = random_position\n",
    "    iteration-=1\n",
    "    \n"
   ]
  },
  {
   "cell_type": "code",
   "execution_count": null,
   "id": "631125d5",
   "metadata": {},
   "outputs": [],
   "source": []
  }
 ],
 "metadata": {
  "kernelspec": {
   "display_name": "Python 3 (ipykernel)",
   "language": "python",
   "name": "python3"
  },
  "language_info": {
   "codemirror_mode": {
    "name": "ipython",
    "version": 3
   },
   "file_extension": ".py",
   "mimetype": "text/x-python",
   "name": "python",
   "nbconvert_exporter": "python",
   "pygments_lexer": "ipython3",
   "version": "3.9.7"
  }
 },
 "nbformat": 4,
 "nbformat_minor": 5
}
